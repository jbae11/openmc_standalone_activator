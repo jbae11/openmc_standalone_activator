{
 "cells": [
  {
   "cell_type": "code",
   "execution_count": 1,
   "metadata": {},
   "outputs": [],
   "source": [
    "import openmc"
   ]
  },
  {
   "cell_type": "code",
   "execution_count": 2,
   "metadata": {},
   "outputs": [
    {
     "name": "stdout",
     "output_type": "stream",
     "text": [
      "hihihih\n",
      "<class 'openmc.material.Materials'>\n",
      "[Material\n",
      "\tID             =\t1\n",
      "\tName           =\tdummy\n",
      "\tTemperature    =\tNone\n",
      "\tDensity        =\t1.0 [g/cc]\n",
      "\tVolume         =\t1.0 [cm^3]\n",
      "\tS(a,b) Tables  \n",
      "\tNuclides       \n",
      "\tAg107          =\t0.518        [wo]\n",
      "\tAg109          =\t0.482        [wo]\n",
      "]\n",
      "setting up predictor\n",
      "Integrating\n",
      "[openmc.deplete] t=0.0 s, dt=300.0 s, source=11160000000.0\n",
      "[openmc.deplete] t=300.0 (final operator evaluation)\n"
     ]
    },
    {
     "ename": "ValueError",
     "evalue": "not enough values to unpack (expected 2, got 1)",
     "output_type": "error",
     "traceback": [
      "\u001b[0;31m---------------------------------------------------------------------------\u001b[0m",
      "\u001b[0;31mValueError\u001b[0m                                Traceback (most recent call last)",
      "\u001b[1;32m/home/4ib/git/fermi/notebook/depletion/fns/test_openmc_activator.ipynb Cell 2\u001b[0m line \u001b[0;36m1\n\u001b[1;32m      <a href='vscode-notebook-cell:/home/4ib/git/fermi/notebook/depletion/fns/test_openmc_activator.ipynb#W3sZmlsZQ%3D%3D?line=7'>8</a>\u001b[0m obj \u001b[39m=\u001b[39m OpenMCActivator(ebins, fluxes)\n\u001b[1;32m      <a href='vscode-notebook-cell:/home/4ib/git/fermi/notebook/depletion/fns/test_openmc_activator.ipynb#W3sZmlsZQ%3D%3D?line=8'>9</a>\u001b[0m \u001b[39m#obj.activate(mass_dict, flux_mag_list[0], [days_list[0]],\u001b[39;00m\n\u001b[0;32m---> <a href='vscode-notebook-cell:/home/4ib/git/fermi/notebook/depletion/fns/test_openmc_activator.ipynb#W3sZmlsZQ%3D%3D?line=9'>10</a>\u001b[0m time, metric_dict \u001b[39m=\u001b[39m obj\u001b[39m.\u001b[39mactivate(mass_dict, flux_mag_list[\u001b[39m0\u001b[39m], [days_list[\u001b[39m0\u001b[39m]], \n\u001b[1;32m     <a href='vscode-notebook-cell:/home/4ib/git/fermi/notebook/depletion/fns/test_openmc_activator.ipynb#W3sZmlsZQ%3D%3D?line=10'>11</a>\u001b[0m                     chain_file_path\u001b[39m=\u001b[39m\u001b[39m'\u001b[39m\u001b[39m/home/4ib/git/fermi/fermi/data/openmc/chain_endf_b8.0.xml\u001b[39m\u001b[39m'\u001b[39m,\n\u001b[1;32m     <a href='vscode-notebook-cell:/home/4ib/git/fermi/notebook/depletion/fns/test_openmc_activator.ipynb#W3sZmlsZQ%3D%3D?line=11'>12</a>\u001b[0m                     \u001b[39m# chain_file_path='/home/4ib/Downloads/chain_endfb71_pwr.xml',\u001b[39;00m\n\u001b[1;32m     <a href='vscode-notebook-cell:/home/4ib/git/fermi/notebook/depletion/fns/test_openmc_activator.ipynb#W3sZmlsZQ%3D%3D?line=12'>13</a>\u001b[0m                     metric_list\u001b[39m=\u001b[39m[\u001b[39m'\u001b[39m\u001b[39mdecay_heat\u001b[39m\u001b[39m'\u001b[39m])\n\u001b[1;32m     <a href='vscode-notebook-cell:/home/4ib/git/fermi/notebook/depletion/fns/test_openmc_activator.ipynb#W3sZmlsZQ%3D%3D?line=13'>14</a>\u001b[0m                     \u001b[39m#metric_list=['atom', 'mass', 'activity', 'decay_heat'])\u001b[39;00m\n\u001b[1;32m     <a href='vscode-notebook-cell:/home/4ib/git/fermi/notebook/depletion/fns/test_openmc_activator.ipynb#W3sZmlsZQ%3D%3D?line=14'>15</a>\u001b[0m                     \u001b[39m# metric_list=['mass', 'activity', 'decay_heat'])\u001b[39;00m\n\u001b[1;32m     <a href='vscode-notebook-cell:/home/4ib/git/fermi/notebook/depletion/fns/test_openmc_activator.ipynb#W3sZmlsZQ%3D%3D?line=15'>16</a>\u001b[0m \u001b[39mprint\u001b[39m(metric_dict)\n",
      "\u001b[0;31mValueError\u001b[0m: not enough values to unpack (expected 2, got 1)"
     ]
    }
   ],
   "source": [
    "from openmc_activator_mass_dict import OpenMCActivator\n",
    "import pickle\n",
    "data = pickle.load(open('./irradiation_setup.pkl', 'rb'))\n",
    "locals().update(data)\n",
    "\n",
    "\n",
    "mass_dict = {'Ag107': 0.518, 'Ag109': 0.482}\n",
    "obj = OpenMCActivator(ebins, fluxes)\n",
    "#obj.activate(mass_dict, flux_mag_list[0], [days_list[0]],\n",
    "metric_dict = obj.activate(mass_dict, flux_mag_list[0], [days_list[0]], \n",
    "                chain_file_path='/home/4ib/git/fermi/fermi/data/openmc/chain_endf_b8.0.xml',\n",
    "                metric_list=['decay_heat'])\n",
    "print(metric_dict)\n",
    "print(time)"
   ]
  },
  {
   "cell_type": "markdown",
   "metadata": {},
   "source": []
  },
  {
   "cell_type": "code",
   "execution_count": null,
   "metadata": {},
   "outputs": [],
   "source": []
  },
  {
   "cell_type": "code",
   "execution_count": null,
   "metadata": {},
   "outputs": [],
   "source": []
  },
  {
   "cell_type": "code",
   "execution_count": null,
   "metadata": {},
   "outputs": [],
   "source": []
  }
 ],
 "metadata": {
  "kernelspec": {
   "display_name": "env_neutronics",
   "language": "python",
   "name": "python3"
  },
  "language_info": {
   "codemirror_mode": {
    "name": "ipython",
    "version": 3
   },
   "file_extension": ".py",
   "mimetype": "text/x-python",
   "name": "python",
   "nbconvert_exporter": "python",
   "pygments_lexer": "ipython3",
   "version": "3.9.0"
  }
 },
 "nbformat": 4,
 "nbformat_minor": 2
}
